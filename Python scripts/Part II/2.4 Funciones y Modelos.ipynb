{
 "cells": [
  {
   "cell_type": "code",
   "execution_count": null,
   "id": "208713f1",
   "metadata": {},
   "outputs": [],
   "source": [
    "# 1.Función de Suma de Números"
   ]
  },
  {
   "cell_type": "code",
   "execution_count": null,
   "id": "9938454f",
   "metadata": {},
   "outputs": [],
   "source": [
    "# 2.Función para Calcular el Promedio"
   ]
  },
  {
   "cell_type": "code",
   "execution_count": null,
   "id": "06d7b37a",
   "metadata": {},
   "outputs": [],
   "source": [
    "# 3.Función para Calcular la Varianza"
   ]
  },
  {
   "cell_type": "code",
   "execution_count": null,
   "id": "4bebdb15",
   "metadata": {},
   "outputs": [],
   "source": [
    "# 4.Creación de un Módulo de Estadística Básica"
   ]
  },
  {
   "cell_type": "code",
   "execution_count": null,
   "id": "11d79a5a",
   "metadata": {},
   "outputs": [],
   "source": [
    "# 5.Importación Selectiva de Funciones"
   ]
  },
  {
   "cell_type": "code",
   "execution_count": null,
   "id": "5a514827",
   "metadata": {},
   "outputs": [],
   "source": [
    "# 6.Creación de una Función de Mediana"
   ]
  },
  {
   "cell_type": "code",
   "execution_count": null,
   "id": "c3f93852",
   "metadata": {},
   "outputs": [],
   "source": [
    "# 7. Función de Desviación Estándar"
   ]
  },
  {
   "cell_type": "code",
   "execution_count": null,
   "id": "299b5ccc",
   "metadata": {},
   "outputs": [],
   "source": [
    "# 8. Creación de un Módulo para Calcular la Moda"
   ]
  }
 ],
 "metadata": {
  "kernelspec": {
   "display_name": "Python 3",
   "language": "python",
   "name": "python3"
  },
  "language_info": {
   "codemirror_mode": {
    "name": "ipython",
    "version": 3
   },
   "file_extension": ".py",
   "mimetype": "text/x-python",
   "name": "python",
   "nbconvert_exporter": "python",
   "pygments_lexer": "ipython3",
   "version": "3.9.15"
  }
 },
 "nbformat": 4,
 "nbformat_minor": 5
}
