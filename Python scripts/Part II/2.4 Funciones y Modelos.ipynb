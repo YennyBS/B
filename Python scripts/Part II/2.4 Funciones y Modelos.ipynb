{
 "cells": [
  {
   "cell_type": "code",
   "execution_count": 3,
   "id": "208713f1",
   "metadata": {},
   "outputs": [
    {
     "name": "stdout",
     "output_type": "stream",
     "text": [
      "24\n"
     ]
    }
   ],
   "source": [
    "# sumar todos los elementos de una lista\n",
    "'''\n",
    "estructura basica de una funcion\n",
    "def nombre_de_la_funcion(v1,v2,...,vn):\n",
    "    el codigo\n",
    "    return lo que quieras devolver al ejecutar la funcion\n",
    "'''\n",
    "\n",
    "#defino una funcion\n",
    "def suma_lista(lista):\n",
    "    return sum(lista)\n",
    "\n",
    "# definir una lista\n",
    "lista1 = [1 , 2 ,3 ,4 ,5]\n",
    "lista4 = [ 1 ,3 ,5]\n",
    "suma_de_la_lista1 =suma_lista(lista1)\n",
    "suma_de_la_lista4 =suma_lista(lista4)\n",
    "\n",
    "# for i in lista hacer el algoritmo de suma de un vector\n",
    "   # suma = suma +lista[i-1]\n",
    "    \n",
    "print(suma_de_la_lista1 + suma_de_la_lista4)"
   ]
  },
  {
   "cell_type": "code",
   "execution_count": 5,
   "id": "f17e8f56",
   "metadata": {},
   "outputs": [
    {
     "name": "stdout",
     "output_type": "stream",
     "text": [
      "300\n"
     ]
    }
   ],
   "source": [
    "#encontrar el mayor de una lista\n",
    "def mayor_lista(vector):\n",
    "    maximo = vector[0]\n",
    "    for i in vector:\n",
    "        if i > maximo:\n",
    "            maximo = i\n",
    "    return maximo # es lo que devuelve la funcion al ejecutarse\n",
    "\n",
    "lista1 = [1,300,212,21,1,1]\n",
    "print(mayor_lista(lista1))\n",
    "\n",
    "#encuentren el minimo de una lista"
   ]
  },
  {
   "cell_type": "code",
   "execution_count": 9,
   "id": "1370e506",
   "metadata": {},
   "outputs": [
    {
     "name": "stdout",
     "output_type": "stream",
     "text": [
      "ingresa un valor n 1\n",
      "ingresa un valor m2\n",
      "ingresa un valor m3\n",
      "7\n"
     ]
    }
   ],
   "source": [
    "# la suma de 2 numeros\n",
    "\n",
    "def suma(a,b,c):\n",
    "    return a+b*c\n",
    "\n",
    "\n",
    "n = int(input('ingresa un valor n '))\n",
    "m = int(input('ingresa un valor m'))\n",
    "p = int(input('ingresa un valor m'))\n",
    "#print(suma(3,2,1))\n",
    "print(suma(n,m,p))"
   ]
  },
  {
   "cell_type": "code",
   "execution_count": 10,
   "id": "ab096722",
   "metadata": {},
   "outputs": [
    {
     "name": "stdout",
     "output_type": "stream",
     "text": [
      "8\n"
     ]
    }
   ],
   "source": [
    "# creen funciones suma , resta , division y potencia de 2 numeros\n",
    "\n",
    "#funcion suma \n",
    "def suma(a,b):\n",
    "    return a+b\n",
    "\n",
    "#funcion resta \n",
    "def resta(a,b):\n",
    "    return a-b\n",
    "\n",
    "#funcion division\n",
    "def division(a,b):\n",
    "    return a/b\n",
    "\n",
    "#funcion potencia \n",
    "def potencia(a,b):\n",
    "    return a**b\n",
    "\n",
    "operacion = input('ingresa la operacion')\n",
    "#elegir la operacion\n"
   ]
  },
  {
   "cell_type": "code",
   "execution_count": null,
   "id": "fc3d097d",
   "metadata": {},
   "outputs": [],
   "source": []
  },
  {
   "cell_type": "code",
   "execution_count": null,
   "id": "31dd0fef",
   "metadata": {},
   "outputs": [],
   "source": []
  },
  {
   "cell_type": "code",
   "execution_count": null,
   "id": "9938454f",
   "metadata": {},
   "outputs": [],
   "source": [
    "# 2.Función para Calcular el Promedio"
   ]
  },
  {
   "cell_type": "code",
   "execution_count": null,
   "id": "06d7b37a",
   "metadata": {},
   "outputs": [],
   "source": [
    "# 3.Función para Calcular la Varianza"
   ]
  },
  {
   "cell_type": "code",
   "execution_count": null,
   "id": "4bebdb15",
   "metadata": {},
   "outputs": [],
   "source": [
    "# 4.Creación de un Módulo de Estadística Básica"
   ]
  },
  {
   "cell_type": "code",
   "execution_count": null,
   "id": "11d79a5a",
   "metadata": {},
   "outputs": [],
   "source": [
    "# 5.Importación Selectiva de Funciones"
   ]
  },
  {
   "cell_type": "code",
   "execution_count": null,
   "id": "5a514827",
   "metadata": {},
   "outputs": [],
   "source": [
    "# 6.Creación de una Función de Mediana"
   ]
  },
  {
   "cell_type": "code",
   "execution_count": null,
   "id": "c3f93852",
   "metadata": {},
   "outputs": [],
   "source": [
    "# 7. Función de Desviación Estándar"
   ]
  },
  {
   "cell_type": "code",
   "execution_count": null,
   "id": "299b5ccc",
   "metadata": {},
   "outputs": [],
   "source": [
    "# 8. Creación de un Módulo para Calcular la Moda"
   ]
  }
 ],
 "metadata": {
  "kernelspec": {
   "display_name": "Python 3 (ipykernel)",
   "language": "python",
   "name": "python3"
  },
  "language_info": {
   "codemirror_mode": {
    "name": "ipython",
    "version": 3
   },
   "file_extension": ".py",
   "mimetype": "text/x-python",
   "name": "python",
   "nbconvert_exporter": "python",
   "pygments_lexer": "ipython3",
   "version": "3.11.7"
  }
 },
 "nbformat": 4,
 "nbformat_minor": 5
}
