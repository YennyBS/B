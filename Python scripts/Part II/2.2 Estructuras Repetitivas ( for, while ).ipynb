{
 "cells": [
  {
   "cell_type": "code",
   "execution_count": 4,
   "id": "a277e720",
   "metadata": {},
   "outputs": [
    {
     "name": "stdout",
     "output_type": "stream",
     "text": [
      "1\n",
      "8\n",
      "27\n",
      "64\n",
      "125\n",
      "216\n",
      "343\n",
      "512\n",
      "729\n",
      "1000\n"
     ]
    }
   ],
   "source": [
    "# 1.Imprimir números del 1 al 10\n",
    "for i in range(1,11):\n",
    "    print(i**3)"
   ]
  },
  {
   "cell_type": "code",
   "execution_count": 6,
   "id": "0a775b6d",
   "metadata": {},
   "outputs": [
    {
     "name": "stdout",
     "output_type": "stream",
     "text": [
      "ingresa la cantidad de numeros5\n",
      "la suma total es : 15\n"
     ]
    }
   ],
   "source": [
    "# 2.Suma de los primeros n números\n",
    "n = int(input('ingresa la cantidad de numeros'))\n",
    "suma = 0\n",
    "for i in range(1,n+1):\n",
    "    suma = suma + i # suma += i \n",
    "\n",
    "print(\"la suma total es :\" ,suma)"
   ]
  },
  {
   "cell_type": "code",
   "execution_count": 7,
   "id": "6d26dc77",
   "metadata": {},
   "outputs": [
    {
     "name": "stdout",
     "output_type": "stream",
     "text": [
      "Ingresa la tabla que desee 5\n",
      "5 x 1 = 5\n",
      "5 x 2 = 10\n",
      "5 x 3 = 15\n",
      "5 x 4 = 20\n",
      "5 x 5 = 25\n",
      "5 x 6 = 30\n",
      "5 x 7 = 35\n",
      "5 x 8 = 40\n",
      "5 x 9 = 45\n",
      "5 x 10 = 50\n",
      "5 x 11 = 55\n",
      "5 x 12 = 60\n"
     ]
    }
   ],
   "source": [
    "# 3.Tabla de multiplicar\n",
    "# 1 x1 = 1 \n",
    "# 1 x2 = 2\n",
    "\n",
    "n = int(input('Ingresa la tabla que desee '))\n",
    "\n",
    "for i in range(1,13):\n",
    "    print(f\"{n} x {i} = {n*i}\") # f\"{variable1} cualquier texto {variable2}\"\n",
    "    "
   ]
  },
  {
   "cell_type": "code",
   "execution_count": null,
   "id": "5f6d93eb",
   "metadata": {},
   "outputs": [],
   "source": [
    "# 4.Números 20  pares en un 2 ,4 ,6 ,8 ...\n"
   ]
  },
  {
   "cell_type": "code",
   "execution_count": 8,
   "id": "aff046cc",
   "metadata": {},
   "outputs": [
    {
     "name": "stdout",
     "output_type": "stream",
     "text": [
      "ingrese el numero factorial6\n",
      "720\n"
     ]
    }
   ],
   "source": [
    "# 5.Factorial de un número\n",
    "# 4! = 4 x 3 x 2 x 1\n",
    "n = int(input('ingrese el numero factorial'))\n",
    "factorial = 1\n",
    "for i in range(1,n+1):\n",
    "    factorial = factorial * i\n",
    "    \n",
    "\n",
    "print(factorial)\n"
   ]
  },
  {
   "cell_type": "code",
   "execution_count": 12,
   "id": "5479b585",
   "metadata": {},
   "outputs": [
    {
     "name": "stdout",
     "output_type": "stream",
     "text": [
      "10\n",
      "20\n",
      "30\n",
      "40\n",
      "50\n",
      "150\n"
     ]
    }
   ],
   "source": [
    "# Media de una lista de numeros \n",
    "lista = [10 , 20 , 30 , 40 ,50]\n",
    "# la suma de la lista y el numero de componentes de la lista \n",
    "n_datos = len(lista)\n",
    "#print(n_datos)\n",
    "suma = 0\n",
    "for i in lista: # i va a recorrer los elementos del vector 1 x 1\n",
    "    suma = suma+i\n",
    "    #print(i)\n",
    "    \n",
    "print(suma)\n",
    "media = suma / n_datos"
   ]
  },
  {
   "cell_type": "code",
   "execution_count": 13,
   "id": "0fd50076",
   "metadata": {},
   "outputs": [
    {
     "name": "stdout",
     "output_type": "stream",
     "text": [
      "150\n",
      "200.0\n"
     ]
    }
   ],
   "source": [
    "# varianza de una lista de numeros\n",
    "lista = [10 , 20 , 30 , 40 ,50]\n",
    "# la suma de la lista y el numero de componentes de la lista \n",
    "n_datos = len(lista)\n",
    "#print(n_datos)\n",
    "suma = 0\n",
    "for i in lista: # i va a recorrer los elementos del vector 1 x 1\n",
    "    suma = suma+i\n",
    "    #print(i)\n",
    "    \n",
    "print(suma)\n",
    "media = suma / n_datos\n",
    "\n",
    "suma2=0\n",
    "for i in lista:\n",
    "    suma2 = suma2 + (i-media)**2\n",
    "    \n",
    "varianza = suma2 / n_datos\n",
    "print(varianza)"
   ]
  },
  {
   "cell_type": "code",
   "execution_count": 20,
   "id": "3ad296b9",
   "metadata": {},
   "outputs": [
    {
     "name": "stdout",
     "output_type": "stream",
     "text": [
      "el valor del medio del vector 40\n",
      "45.0\n"
     ]
    }
   ],
   "source": [
    "#hallar la mediana \n",
    "lista = [10 , 20 , 50 , 40 ,30,70]\n",
    "#para ordenar una lista [n // 2]\n",
    "lista.sort()\n",
    "\n",
    "n=len(lista)\n",
    "print('el valor del medio del vector' , lista[n//2]) \n",
    "if n%2 ==0: # \"% operador modulo para hallar residuo\"\n",
    "    mediana = (lista[n//2]+lista[(n//2)+1])/2\n",
    "    print(mediana)\n",
    "else:\n",
    "    mediana = lista[n//2]\n",
    "    print(mediana)"
   ]
  },
  {
   "cell_type": "code",
   "execution_count": 22,
   "id": "c1dc4ca1",
   "metadata": {},
   "outputs": [
    {
     "name": "stdout",
     "output_type": "stream",
     "text": [
      "0\n"
     ]
    }
   ],
   "source": []
  },
  {
   "cell_type": "code",
   "execution_count": null,
   "id": "95544d3d",
   "metadata": {},
   "outputs": [],
   "source": []
  }
 ],
 "metadata": {
  "kernelspec": {
   "display_name": "Python 3 (ipykernel)",
   "language": "python",
   "name": "python3"
  },
  "language_info": {
   "codemirror_mode": {
    "name": "ipython",
    "version": 3
   },
   "file_extension": ".py",
   "mimetype": "text/x-python",
   "name": "python",
   "nbconvert_exporter": "python",
   "pygments_lexer": "ipython3",
   "version": "3.11.7"
  }
 },
 "nbformat": 4,
 "nbformat_minor": 5
}
