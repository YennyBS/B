{
 "cells": [
  {
   "cell_type": "code",
   "execution_count": null,
   "id": "fe6cf441",
   "metadata": {},
   "outputs": [],
   "source": [
    "# A. Condicionales (if, elif, else)"
   ]
  },
  {
   "cell_type": "code",
   "execution_count": 4,
   "id": "fbc6a348",
   "metadata": {},
   "outputs": [
    {
     "name": "stdout",
     "output_type": "stream",
     "text": [
      "num1 es mayor que num2\n",
      "30 es mayor que 20\n"
     ]
    }
   ],
   "source": [
    "# 1.Comparar dos números , num1 , num2\n",
    "num1 = 30\n",
    "num2 = 20\n",
    "if num1==num2:\n",
    "    print('los numeros son iguales')\n",
    "elif num1>num2:\n",
    "    print('num1 es mayor que num2')\n",
    "    print(f\"{num1} es mayor que {num2}\")# f\"{variable} lo que sea\" f\"\"\n",
    "else:\n",
    "    print('num1 es menor que num2')"
   ]
  },
  {
   "cell_type": "code",
   "execution_count": 8,
   "id": "0ce12471",
   "metadata": {},
   "outputs": [
    {
     "name": "stdout",
     "output_type": "stream",
     "text": [
      "ingresa tu edad30\n",
      "adulto\n"
     ]
    }
   ],
   "source": [
    "# 2.Clasificación de edades\n",
    "\"\"\" \n",
    "Escribe un programa que clasifique a una persona en función de su edad ingresada.\n",
    "\n",
    "-Menor de 12 años: “Niño”.\n",
    "-Entre 12 y 17 años: “Adolescente”.\n",
    "-Entre 18 y 64 años: “Adulto”.\n",
    "-65 años o más: “Adulto mayor”.\n",
    "\"\"\"\n",
    "edad = int(input('ingresa tu edad'))\n",
    "if edad<12:\n",
    "    print('niño') # es niño porque su edad es : \n",
    "elif 12<=edad<=17:\n",
    "    print('adolescente')\n",
    "elif 18<=edad<=64:\n",
    "    print('adulto')\n",
    "else:\n",
    "    print('adulto mayor')"
   ]
  },
  {
   "cell_type": "code",
   "execution_count": 12,
   "id": "b0f4f694",
   "metadata": {},
   "outputs": [
    {
     "name": "stdout",
     "output_type": "stream",
     "text": [
      "ingresa el numero0\n",
      "es igual a cero\n"
     ]
    }
   ],
   "source": [
    "# 3.Determinar si un número es positivo, negativo o cero\n",
    "numero = int(input('ingresa el numero'))\n",
    "if numero >0:\n",
    "    print('el numero es positivo')\n",
    "elif numero<0:\n",
    "    print('el numero es negativo')\n",
    "else:\n",
    "    print('es igual a cero')"
   ]
  },
  {
   "cell_type": "code",
   "execution_count": 20,
   "id": "68f6b19d",
   "metadata": {},
   "outputs": [
    {
     "name": "stdout",
     "output_type": "stream",
     "text": [
      "ingresa el monto de la factura500\n",
      "calidad del servicio(excelente, bueno , regular , malo)121\n",
      "escribiste algo incorrecto\n"
     ]
    }
   ],
   "source": [
    "# 4.Calculadora de propinas\n",
    "\"\"\"Escribe un programa que calcule el monto de una propina dependiendo de la calidad del servicio recibida.\n",
    "\n",
    "\t•\tServicio “excelente”: 20% de propina. if\n",
    "\t•\tServicio “bueno”: 15% de propina.elif\n",
    "\t•\tServicio “regular”: 10% de propina.elif\n",
    "\t•\tServicio “malo”: 5% de propina.elif\n",
    "    El programa debe pedir el monto de la factura y el tipo de servicio. \n",
    " \"\"\"\n",
    "#tener 2 variables : el tipo de servicio , la propina final\n",
    "monto = float(input('ingresa el monto de la factura'))\n",
    "servicio = input('calidad del servicio(excelente, bueno , regular , malo)') \n",
    "#sino decimos el tipo de input python asume que es tipo texto o string\n",
    "if servicio == \"excelente\":\n",
    "    porcentaje=0.20\n",
    "    print(monto*porcentaje)\n",
    "elif servicio==\"bueno\":\n",
    "    porcentaje=0.15\n",
    "elif servicio==\"regular\":\n",
    "    porcentaje = 0.10\n",
    "elif servicio==\"malo\":\n",
    "    porcentaje= 0.05\n",
    "else:\n",
    "    porcentaje=0\n",
    "    print('escribiste algo incorrecto')\n",
    "    \n",
    "if porcentaje>0:\n",
    "    propina = monto * porcentaje\n",
    "    print(propina)\n",
    "\n"
   ]
  },
  {
   "cell_type": "code",
   "execution_count": null,
   "id": "25b92b85",
   "metadata": {},
   "outputs": [],
   "source": [
    "# 5.Verificar si el numero es Par o Impar"
   ]
  },
  {
   "cell_type": "code",
   "execution_count": 6,
   "id": "75d3962c",
   "metadata": {},
   "outputs": [],
   "source": [
    "# 6.Calificación de examen\n",
    "\"\"\"\n",
    "Escribe un programa que le pida al usuario su calificación (entre 0 y 100) y le muestre la letra correspondiente según la siguiente escala:\n",
    "\n",
    "\t•\t90-100: A\n",
    "\t•\t80-89: B\n",
    "\t•\t70-79: C\n",
    "\t•\t60-69: D\n",
    "\t•\tMenos de 60: F\n",
    "\"\"\""
   ]
  },
  {
   "cell_type": "code",
   "execution_count": null,
   "id": "92c7422a",
   "metadata": {},
   "outputs": [],
   "source": [
    "# 7.Clasificación de temperaturas\n",
    "\"\"\"\n",
    "Escribe un programa que determine la categoría de una temperatura en grados Celsius:\n",
    "\n",
    "\t•\tMenos de 0°C: “Congelación”.\n",
    "\t•\t0°C a 10°C: “Frío”.\n",
    "\t•\t11°C a 20°C: “Templado”.\n",
    "\t•\t21°C a 30°C: “Cálido”.\n",
    "\t•\tMás de 30°C: “Calor”.\n",
    "\"\"\"\n"
   ]
  },
  {
   "cell_type": "code",
   "execution_count": null,
   "id": "f6c4a83b",
   "metadata": {},
   "outputs": [],
   "source": [
    "# 8.Clasificación de distribución de datos\n",
    "\"\"\"\n",
    "Escribe un programa que clasifique un conjunto de datos como sesgado hacia la izquierda, hacia la derecha o \n",
    "simétrico. La clasificación se basa en la diferencia entre la media y la mediana de los datos:\n",
    "\n",
    "\t•\tSi la media es mayor que la mediana, los datos están sesgados a la derecha.\n",
    "\t•\tSi la media es menor que la mediana, los datos están sesgados a la izquierda.\n",
    "\t•\tSi la media es igual a la mediana, los datos son simétricos.\n",
    "\"\"\""
   ]
  },
  {
   "cell_type": "code",
   "execution_count": null,
   "id": "464dd82b",
   "metadata": {},
   "outputs": [],
   "source": [
    "# 9.Análisis de regresión simple\n",
    "\"\"\"\n",
    "Dado un conjunto de datos con valores de x y y, calcula la pendiente y la \n",
    "intersección de la recta de regresión lineal (y = mx + b). Luego, clasifica la relación:\n",
    "\n",
    "\t•\tSi la pendiente es positiva, imprime “Relación positiva”.\n",
    "\t•\tSi la pendiente es negativa, imprime “Relación negativa”.\n",
    "\t•\tSi la pendiente es cercana a cero (por ejemplo, entre -0.1 y 0.1), \n",
    "        imprime “No hay correlación significativa”.\n",
    "\"\"\"\n",
    "\n"
   ]
  },
  {
   "cell_type": "code",
   "execution_count": null,
   "id": "2682e17f",
   "metadata": {},
   "outputs": [],
   "source": []
  },
  {
   "cell_type": "code",
   "execution_count": 22,
   "id": "b3314045",
   "metadata": {},
   "outputs": [
    {
     "name": "stdout",
     "output_type": "stream",
     "text": [
      "-0.3165444689164591\n",
      "valor normal\n"
     ]
    }
   ],
   "source": [
    "# 11. Clasificación de valores Z\n",
    "\"\"\"\n",
    "Escribe un programa que calcule el valor Z de un conjunto de datos dado y lo clasifique según los siguientes criterios:\n",
    "\n",
    "\t•\tEntre -1 y 1: Valor normal.\n",
    "\t•\tMayor que 1: Valor alto.\n",
    "\t•\tMenor que -1: Valor bajo.\n",
    "    # Conjunto de datos y valor a clasificar\n",
    "datos = np.array([10, 12, 14, 15, 16, 18, 19, 20, 21])\n",
    "valor = 15\n",
    "\"\"\"\n",
    "#valor_z = (valor - media )/ std\n",
    "\n",
    "import numpy as np # 'as' es un alias y le ponemos un nombre x a la libreria \n",
    "\n",
    "datos = np.array([10, 12, 14, 15, 16, 18, 19, 20, 21])\n",
    "valor = 15\n",
    "\n",
    "media = np.mean(datos) # np.mean es para calcular la media \n",
    "desv_standar = np.std(datos)\n",
    "\n",
    "valor_z = (valor-media) / desv_standar\n",
    "print(valor_z)\n",
    "if -1<= valor_z<=1:\n",
    "    print('valor normal')\n",
    "elif valor_z > 1:\n",
    "    print('el valor es alto')\n",
    "else:\n",
    "    print('el valor es bajo')"
   ]
  },
  {
   "cell_type": "code",
   "execution_count": null,
   "id": "99403f2f",
   "metadata": {},
   "outputs": [],
   "source": [
    "# 12. Resolver ecuaciones cuadraticas \n",
    "\"\"\"\n",
    "Escribe un programa que resuelva ecuaciones cuadráticas de la forma  ax^2 + bx + c = 0 , y clasifique las soluciones:\n",
    "\n",
    "\t•\tSi el discriminante es positivo, imprime “Dos soluciones reales”.\n",
    "\t•\tSi el discriminante es cero, imprime “Una solución real”.\n",
    "\t•\tSi el discriminante es negativo, imprime “Soluciones complejas”.\n",
    "\n",
    "La fórmula cuadrática es:\n",
    "\"\"\""
   ]
  },
  {
   "cell_type": "code",
   "execution_count": null,
   "id": "09c192d3",
   "metadata": {},
   "outputs": [],
   "source": []
  }
 ],
 "metadata": {
  "kernelspec": {
   "display_name": "Python 3 (ipykernel)",
   "language": "python",
   "name": "python3"
  },
  "language_info": {
   "codemirror_mode": {
    "name": "ipython",
    "version": 3
   },
   "file_extension": ".py",
   "mimetype": "text/x-python",
   "name": "python",
   "nbconvert_exporter": "python",
   "pygments_lexer": "ipython3",
   "version": "3.11.7"
  }
 },
 "nbformat": 4,
 "nbformat_minor": 5
}
