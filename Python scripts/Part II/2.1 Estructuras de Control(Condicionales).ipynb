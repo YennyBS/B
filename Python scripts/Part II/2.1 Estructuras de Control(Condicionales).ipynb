{
 "cells": [
  {
   "cell_type": "code",
   "execution_count": null,
   "id": "fe6cf441",
   "metadata": {},
   "outputs": [],
   "source": [
    "# A. Condicionales (if, elif, else)"
   ]
  },
  {
   "cell_type": "code",
   "execution_count": 4,
   "id": "fbc6a348",
   "metadata": {},
   "outputs": [
    {
     "name": "stdout",
     "output_type": "stream",
     "text": [
      "num1 es mayor que num2\n",
      "30 es mayor que 20\n"
     ]
    }
   ],
   "source": [
    "# 1.Comparar dos números , num1 , num2\n",
    "num1 = 30\n",
    "num2 = 20\n",
    "if num1==num2:\n",
    "    print('los numeros son iguales')\n",
    "elif num1>num2:\n",
    "    print('num1 es mayor que num2')\n",
    "    print(f\"{num1} es mayor que {num2}\")# f\"{variable} lo que sea\" f\"\"\n",
    "else:\n",
    "    print('num1 es menor que num2')"
   ]
  },
  {
   "cell_type": "code",
   "execution_count": 8,
   "id": "0ce12471",
   "metadata": {},
   "outputs": [
    {
     "name": "stdout",
     "output_type": "stream",
     "text": [
      "ingresa tu edad30\n",
      "adulto\n"
     ]
    }
   ],
   "source": [
    "# 2.Clasificación de edades\n",
    "\"\"\" \n",
    "Escribe un programa que clasifique a una persona en función de su edad ingresada.\n",
    "\n",
    "-Menor de 12 años: “Niño”.\n",
    "-Entre 12 y 17 años: “Adolescente”.\n",
    "-Entre 18 y 64 años: “Adulto”.\n",
    "-65 años o más: “Adulto mayor”.\n",
    "\"\"\"\n",
    "edad = int(input('ingresa tu edad'))\n",
    "if edad<12:\n",
    "    print('niño') # es niño porque su edad es : \n",
    "elif 12<=edad<=17:\n",
    "    print('adolescente')\n",
    "elif 18<=edad<=64:\n",
    "    print('adulto')\n",
    "else:\n",
    "    print('adulto mayor')"
   ]
  },
  {
   "cell_type": "code",
   "execution_count": 12,
   "id": "b0f4f694",
   "metadata": {},
   "outputs": [
    {
     "name": "stdout",
     "output_type": "stream",
     "text": [
      "ingresa el numero0\n",
      "es igual a cero\n"
     ]
    }
   ],
   "source": [
    "# 3.Determinar si un número es positivo, negativo o cero\n",
    "numero = int(input('ingresa el numero'))\n",
    "if numero >0:\n",
    "    print('el numero es positivo')\n",
    "elif numero<0:\n",
    "    print('el numero es negativo')\n",
    "else:\n",
    "    print('es igual a cero')"
   ]
  },
  {
   "cell_type": "code",
   "execution_count": 20,
   "id": "68f6b19d",
   "metadata": {},
   "outputs": [
    {
     "name": "stdout",
     "output_type": "stream",
     "text": [
      "ingresa el monto de la factura500\n",
      "calidad del servicio(excelente, bueno , regular , malo)121\n",
      "escribiste algo incorrecto\n"
     ]
    }
   ],
   "source": [
    "# 4.Calculadora de propinas\n",
    "\"\"\"Escribe un programa que calcule el monto de una propina dependiendo de la calidad del servicio recibida.\n",
    "\n",
    "\t•\tServicio “excelente”: 20% de propina. if\n",
    "\t•\tServicio “bueno”: 15% de propina.elif\n",
    "\t•\tServicio “regular”: 10% de propina.elif\n",
    "\t•\tServicio “malo”: 5% de propina.elif\n",
    "    El programa debe pedir el monto de la factura y el tipo de servicio. \n",
    " \"\"\"\n",
    "#tener 2 variables : el tipo de servicio , la propina final\n",
    "monto = float(input('ingresa el monto de la factura'))\n",
    "servicio = input('calidad del servicio(excelente, bueno , regular , malo)') \n",
    "#sino decimos el tipo de input python asume que es tipo texto o string\n",
    "if servicio == \"excelente\":\n",
    "    porcentaje=0.20\n",
    "    print(monto*porcentaje)\n",
    "elif servicio==\"bueno\":\n",
    "    porcentaje=0.15\n",
    "elif servicio==\"regular\":\n",
    "    porcentaje = 0.10\n",
    "elif servicio==\"malo\":\n",
    "    porcentaje= 0.05\n",
    "else:\n",
    "    porcentaje=0\n",
    "    print('escribiste algo incorrecto')\n",
    "    \n",
    "if porcentaje>0:\n",
    "    propina = monto * porcentaje\n",
    "    print(propina)\n",
    "\n"
   ]
  },
  {
   "cell_type": "code",
   "execution_count": null,
   "id": "25b92b85",
   "metadata": {},
   "outputs": [],
   "source": [
    "# 5.Verificar si el numero es Par o Impar"
   ]
  },
  {
   "cell_type": "code",
   "execution_count": 6,
   "id": "75d3962c",
   "metadata": {},
   "outputs": [],
   "source": [
    "# 6.Calificación de examen\n",
    "\"\"\"\n",
    "Escribe un programa que le pida al usuario su calificación (entre 0 y 100) y le muestre la letra correspondiente según la siguiente escala:\n",
    "\n",
    "\t•\t90-100: A\n",
    "\t•\t80-89: B\n",
    "\t•\t70-79: C\n",
    "\t•\t60-69: D\n",
    "\t•\tMenos de 60: F\n",
    "\"\"\""
   ]
  },
  {
   "cell_type": "code",
   "execution_count": null,
   "id": "92c7422a",
   "metadata": {},
   "outputs": [],
   "source": [
    "# 7.Clasificación de temperaturas\n",
    "\"\"\"\n",
    "Escribe un programa que determine la categoría de una temperatura en grados Celsius:\n",
    "\n",
    "\t•\tMenos de 0°C: “Congelación”.\n",
    "\t•\t0°C a 10°C: “Frío”.\n",
    "\t•\t11°C a 20°C: “Templado”.\n",
    "\t•\t21°C a 30°C: “Cálido”.\n",
    "\t•\tMás de 30°C: “Calor”.\n",
    "\"\"\"\n"
   ]
  },
  {
   "cell_type": "code",
   "execution_count": null,
   "id": "f6c4a83b",
   "metadata": {},
   "outputs": [],
   "source": [
    "# 8.Clasificación de distribución de datos\n",
    "\"\"\"\n",
    "Escribe un programa que clasifique un conjunto de datos como sesgado hacia la izquierda, hacia la derecha o \n",
    "simétrico. La clasificación se basa en la diferencia entre la media y la mediana de los datos:\n",
    "\n",
    "\t•\tSi la media es mayor que la mediana, los datos están sesgados a la derecha.\n",
    "\t•\tSi la media es menor que la mediana, los datos están sesgados a la izquierda.\n",
    "\t•\tSi la media es igual a la mediana, los datos son simétricos.\n",
    "\"\"\""
   ]
  },
  {
   "cell_type": "code",
   "execution_count": null,
   "id": "464dd82b",
   "metadata": {},
   "outputs": [],
   "source": [
    "# 9.Análisis de regresión simple\n",
    "\"\"\"\n",
    "Dado un conjunto de datos con valores de x y y, calcula la pendiente y la \n",
    "intersección de la recta de regresión lineal (y = mx + b). Luego, clasifica la relación:\n",
    "\n",
    "\t•\tSi la pendiente es positiva, imprime “Relación positiva”.\n",
    "\t•\tSi la pendiente es negativa, imprime “Relación negativa”.\n",
    "\t•\tSi la pendiente es cercana a cero (por ejemplo, entre -0.1 y 0.1), \n",
    "        imprime “No hay correlación significativa”.\n",
    "\"\"\"\n",
    "\n"
   ]
  },
  {
   "cell_type": "code",
   "execution_count": null,
   "id": "2682e17f",
   "metadata": {},
   "outputs": [],
   "source": []
  },
  {
   "cell_type": "code",
   "execution_count": 22,
   "id": "b3314045",
   "metadata": {},
   "outputs": [
    {
     "name": "stdout",
     "output_type": "stream",
     "text": [
      "-0.3165444689164591\n",
      "valor normal\n"
     ]
    }
   ],
   "source": [
    "# 11. Clasificación de valores Z\n",
    "\"\"\"\n",
    "Escribe un programa que calcule el valor Z de un conjunto de datos dado y lo clasifique según los siguientes criterios:\n",
    "\n",
    "\t•\tEntre -1 y 1: Valor normal.\n",
    "\t•\tMayor que 1: Valor alto.\n",
    "\t•\tMenor que -1: Valor bajo.\n",
    "    # Conjunto de datos y valor a clasificar\n",
    "datos = np.array([10, 12, 14, 15, 16, 18, 19, 20, 21])\n",
    "valor = 15\n",
    "\"\"\"\n",
    "#valor_z = (valor - media )/ std\n",
    "\n",
    "import numpy as np # 'as' es un alias y le ponemos un nombre x a la libreria \n",
    "\n",
    "datos = np.array([10, 12, 14, 15, 16, 18, 19, 20, 21])\n",
    "valor = 15\n",
    "\n",
    "media = np.mean(datos) # np.mean es para calcular la media \n",
    "desv_standar = np.std(datos)\n",
    "\n",
    "valor_z = (valor-media) / desv_standar\n",
    "print(valor_z)\n",
    "if -1<= valor_z<=1:\n",
    "    print('valor normal')\n",
    "elif valor_z > 1:\n",
    "    print('el valor es alto')\n",
    "else:\n",
    "    print('el valor es bajo')"
   ]
  },
  {
   "cell_type": "code",
   "execution_count": null,
   "id": "99403f2f",
   "metadata": {},
   "outputs": [],
   "source": [
    "# 12. Resolver ecuaciones cuadraticas \n",
    "\"\"\"\n",
    "Escribe un programa que resuelva ecuaciones cuadráticas de la forma  ax^2 + bx + c = 0 , y clasifique las soluciones:\n",
    "\n",
    "\t•\tSi el discriminante es positivo, imprime “Dos soluciones reales”.\n",
    "\t•\tSi el discriminante es cero, imprime “Una solución real”.\n",
    "\t•\tSi el discriminante es negativo, imprime “Soluciones complejas”.\n",
    "\n",
    "La fórmula cuadrática es:\n",
    "\"\"\""
   ]
  },
  {
   "cell_type": "code",
   "execution_count": 25,
   "id": "09c192d3",
   "metadata": {},
   "outputs": [
    {
     "name": "stdout",
     "output_type": "stream",
     "text": [
      "Ingresa tu edad17\n",
      "eres miembro ? si/nono\n",
      "no puedes ingresar al evento especial\n"
     ]
    }
   ],
   "source": [
    "#13 \n",
    "\"\"\"Ejercicio 1: Verificación de Edad y Membresía (Básico)\n",
    "\n",
    "Problema: Escribe un programa que pida al usuario su edad y si es miembro de un club\n",
    "(sí o no). El programa debe imprimir un mensaje indicando si la persona es elegible \n",
    "para acceder a un evento especial. Las condiciones para ser elegible son:\n",
    "\t•\tLa persona debe tener al menos 18 años.\n",
    "\t•\tLa persona debe ser miembro del club.\n",
    "\"\"\"\n",
    "# and condi1 condi2 ambas deben cumplirse\n",
    "# or cond1 , condi2 , solo debe cumplirse una de ellas\n",
    "edad = int(input('Ingresa tu edad '))\n",
    "membresia = input('eres miembro ? si/no ')\n",
    "\n",
    "if edad >= 18 and membresia == 'si':\n",
    "    print('puedes ingresar al evento especial')\n",
    "\n",
    "else:\n",
    "    print('no puedes ingresar al evento especial')\n",
    "\n",
    "\n",
    "\n"
   ]
  },
  {
   "cell_type": "code",
   "execution_count": 26,
   "id": "5bc6729e",
   "metadata": {},
   "outputs": [
    {
     "name": "stdout",
     "output_type": "stream",
     "text": [
      "cual es el valor de la compra120\n",
      "eres vip , si/nosi\n",
      "24.0\n",
      "96.0\n"
     ]
    }
   ],
   "source": [
    "#14\n",
    "'''Ejercicio 2: Descuento en Compras (Intermedio)\n",
    "\n",
    "Problema: Crea un programa que calcule el descuento en una compra. El programa debe preguntar el valor total \n",
    "de la compra y si el cliente es miembro VIP (sí o no). Las reglas de descuento son:\n",
    "\t•\tSi el valor de la compra es mayor a $100 y el cliente es miembro VIP, el descuento es del 20%.\n",
    "\t•\tSi el valor de la compra es mayor a $100 pero el cliente no es miembro VIP, el descuento es del 10%.\n",
    "\t•\tEn cualquier otro caso, no hay descuento.\n",
    "'''\n",
    "\n",
    "valor_de_compra = float(input('cual es el valor de la compra '))\n",
    "vip= input('eres vip , si/no')\n",
    "\n",
    "if valor_de_compra >100 and vip=='si ':\n",
    "    descuento = valor_de_compra * 0.20\n",
    "\n",
    "elif valor_de_compra >100 and vip=='no ':\n",
    "    descuento = valor_de_compra * 0.1\n",
    "\n",
    "else:\n",
    "    descuento = 0\n",
    "    \n",
    "monto_final = valor_de_compra - descuento\n",
    "print(descuento)\n",
    "print(monto_final)\n",
    "    \n",
    "    "
   ]
  },
  {
   "cell_type": "code",
   "execution_count": 43,
   "id": "536f936d",
   "metadata": {},
   "outputs": [
    {
     "name": "stdout",
     "output_type": "stream",
     "text": [
      "[1 2 3 4 5 6]\n",
      "[[1 2 3]\n",
      " [3 4 5]]\n",
      "[0. 0. 0. 0. 0.]\n",
      "[[1. 1. 1.]\n",
      " [1. 1. 1.]]\n",
      "[1 2 3 4 5 6]\n",
      "[[1 2 3]\n",
      " [4 5 6]]\n"
     ]
    }
   ],
   "source": [
    "import numpy as np\n",
    "\n",
    "#como crear una array o lista o vector a = np.array([])\n",
    "\n",
    "a = np.array([1,2,3,4,5,6])#vector unidimensional \n",
    "b = np.array([[1,2,3],[3,4,5]])\n",
    "# 123\n",
    "# 456\n",
    "print(a)\n",
    "print(b)\n",
    "\n",
    "#matriz de ceros\n",
    "zeros = np.zeros(5)\n",
    "print(zeros)\n",
    "\n",
    "#matriz de unos \n",
    "unos = np.ones((2,3))\n",
    "print(unos)\n",
    "\n",
    "vector1 = np.array([1,2,3]) # n x m\n",
    "vector2 = np.array([4,5,6]) # n x m\n",
    "\n",
    "#concatenado n x 2*m\n",
    "concatenacion_de_vectores = np.concatenate((vector1,vector2))\n",
    "print(concatenacion_de_vectores)\n",
    "\n",
    "#apilado  x m\n",
    "apilado = np.vstack((vector1,vector2))\n",
    "print(apilado)\n",
    "\n",
    "\n",
    "\n",
    "\n",
    "\n",
    "\n",
    "\n"
   ]
  },
  {
   "cell_type": "code",
   "execution_count": 42,
   "id": "f160790a",
   "metadata": {},
   "outputs": [
    {
     "name": "stdout",
     "output_type": "stream",
     "text": [
      "[[1]\n",
      " [2]\n",
      " [3]]\n"
     ]
    }
   ],
   "source": [
    "#matriz columna \n",
    "vcolumna = np.array([[1] , [2] , [3]])\n",
    "\n",
    "print(vcolumna)"
   ]
  },
  {
   "cell_type": "code",
   "execution_count": 52,
   "id": "a68535d5",
   "metadata": {},
   "outputs": [
    {
     "name": "stdout",
     "output_type": "stream",
     "text": [
      "[1.         1.41421356 1.73205081 2.        ]\n"
     ]
    }
   ],
   "source": [
    "#operaciones aritmeticas\n",
    "vector1 = np.array([1,2,3,4])\n",
    "\n",
    "#suma de un numero a cada elemento del vector\n",
    "#print(vector1 +5)\n",
    "\n",
    "#multiplicar un numero a cada elemento del vector\n",
    "#print(vector1 * 2)\n",
    "\n",
    "#potencia vector ** potencia\n",
    "#print(vector1 ** 2)\n",
    "\n",
    "#seno asume que esta en radianes\n",
    "#print(np.sin(vector1))\n",
    "\n",
    "#coseno\n",
    "#print(np.cos(vector1))\n",
    "\n",
    "#logaritmo \n",
    "#print(np.log(vector1))\n",
    "\n",
    "#raiz cuadrada\n",
    "print(np.sqrt(vector1))"
   ]
  },
  {
   "cell_type": "code",
   "execution_count": 54,
   "id": "74ede0be",
   "metadata": {},
   "outputs": [
    {
     "name": "stdout",
     "output_type": "stream",
     "text": [
      "[[19 22]\n",
      " [43 50]]\n"
     ]
    }
   ],
   "source": [
    "# producto de matrices \n",
    "\n",
    "A = np.array([[1 , 2],[3 , 4]])\n",
    "B = np.array([[5 , 6],[7 , 8]])\n",
    "\n",
    "C = np.dot(A,B)\n",
    "print(C)"
   ]
  },
  {
   "cell_type": "code",
   "execution_count": 85,
   "id": "404e3d39",
   "metadata": {},
   "outputs": [
    {
     "name": "stdout",
     "output_type": "stream",
     "text": [
      "MEDIA =  3.0\n",
      "MEDIANA =  3.0\n",
      "DESVIACION ESTANDAR = 1.414\n",
      "VARIANZA =  1.4142135623730951\n",
      "el maximo es 5 y el minimo es 1\n",
      "percentil 25 = 2.0 y el percentil 75 = 4.0\n",
      "cuartil 1 = 2.0 y el cuartil 3 4.0 \n"
     ]
    }
   ],
   "source": [
    "#Operaciones estadisticas\n",
    "\n",
    "vector1 = np.array([1,2,3,4,5])\n",
    "# np.mean (MEDIA)\n",
    "media = np.mean(vector1)\n",
    "print('MEDIA = ',media)\n",
    "\n",
    "# np.median (MEDIANA)\n",
    "mediana = np.median(vector1)\n",
    "print('MEDIANA = ',mediana)\n",
    "\n",
    "# np.std (DESVIACION ESTANDAR)\n",
    "desv_std = np.std(vector1)\n",
    "print(f\"DESVIACION ESTANDAR = {desv_std:.3f}\")\n",
    "\n",
    "# np.var (VARIANZA)\n",
    "varianza = np.var(vector1)\n",
    "print('VARIANZA = ', varianza )\n",
    "\n",
    "#el maximo y el minimo del vector np.max np.min\n",
    "maximo = np.max(vector1)\n",
    "minimo = np.min(vector1)\n",
    "\n",
    "print(f\"el maximo es {maximo} y el minimo es {minimo}\")\n",
    "\n",
    "# np.percentile() (PERCENTIL)\n",
    "percentil_25 = np.percentile(vector1,25)\n",
    "percentil_75 = np.percentile(vector1,75)\n",
    "\n",
    "print(f\"percentil 25 = {percentil_25} y el percentil 75 = {percentil_75}\")\n",
    "\n",
    "# np.quantile() ( cuartiles)\n",
    "cuartil_25 = np.quantile(vector1,0.25)\n",
    "cuartil_75 = np.quantile(vector1,0.75)\n",
    "\n",
    "print(f\"cuartil 1 = {cuartil_25} y el cuartil 3 {cuartil_75} \")"
   ]
  },
  {
   "cell_type": "code",
   "execution_count": 74,
   "id": "0ce83f6f",
   "metadata": {},
   "outputs": [
    {
     "name": "stdout",
     "output_type": "stream",
     "text": [
      "[[ 2.5 -2.5]\n",
      " [-2.5  2.5]]\n"
     ]
    }
   ],
   "source": [
    "#coeficiente de correlacion \n",
    "vector1 = np.array([1,2,3,4,5])\n",
    "vector2 = np.array([5,4,3,2,1])\n",
    "\n",
    "correlacion = np.corrcoef(vector1,vector2)\n",
    "#print(correlacion)\n",
    "\n",
    "#matriz covarianza np.cov\n",
    "covarianza = np.cov(vector1 , vector2)\n",
    "print(covarianza)"
   ]
  },
  {
   "cell_type": "code",
   "execution_count": 86,
   "id": "1cf368af",
   "metadata": {},
   "outputs": [
    {
     "name": "stdout",
     "output_type": "stream",
     "text": [
      "la media es  [81.65 81.25 80.3  83.65]\n",
      "la mediana es  [84.  81.5 80.5 84.5]\n",
      "la varianza es  [79.1275 72.0875 64.11   74.5275]\n",
      "la desviacion estandar es  [8.89536396 8.4904358  8.00687205 8.63293114]\n",
      "96\n",
      "[60 62 65 65]\n"
     ]
    }
   ],
   "source": [
    "#15\n",
    "import numpy as np\n",
    "# media , mediana , varianza , desviacion estandar , calificacion minima , calificacion maxima\n",
    "# Datos de calificaciones de 20 estudiantes en 4 exámenes\n",
    "calificaciones = np.array([\n",
    "    #n1  n2  n3  n4\n",
    "    [85, 90, 78, 92],\n",
    "    [88, 76, 85, 91],\n",
    "    [92, 89, 93, 85],\n",
    "    [67, 72, 70, 65],\n",
    "    [80, 78, 88, 84],\n",
    "    [85, 91, 82, 89],\n",
    "    [90, 88, 76, 95],\n",
    "    [78, 74, 70, 80],\n",
    "    [81, 85, 77, 79],\n",
    "    [73, 70, 68, 72],\n",
    "    [95, 94, 92, 96],\n",
    "    [60, 62, 65, 68],\n",
    "    [88, 87, 85, 90],\n",
    "    [83, 80, 85, 84],\n",
    "    [77, 76, 74, 75],\n",
    "    [70, 72, 78, 79],\n",
    "    [88, 90, 91, 89],\n",
    "    [85, 83, 82, 86],\n",
    "    [76, 78, 79, 80],\n",
    "    [92, 90, 88, 94]\n",
    "])\n",
    "\n",
    "#media 0 es por columna y 1 es por fila\n",
    "media = np.mean(calificaciones , axis=0)\n",
    "print('la media es ',media)\n",
    "\n",
    "#mediana\n",
    "mediana = np.median(calificaciones , axis=0)\n",
    "print('la mediana es ',mediana)\n",
    "\n",
    "#varianza\n",
    "varianza = np.var(calificaciones , axis =0)\n",
    "print('la varianza es ',varianza)\n",
    "\n",
    "#desviacion estandar \n",
    "desviacion = np.std(calificaciones, axis=0)\n",
    "print('la desviacion estandar es ',desviacion)\n",
    "\n",
    "#calificacion maxima \n",
    "maxima = np.max(calificaciones , axis =0)\n",
    "print(maxima)\n",
    "\n",
    "#calificacion minima\n",
    "minima = np.min(calificaciones , axis =0)\n",
    "print(minima)"
   ]
  },
  {
   "cell_type": "code",
   "execution_count": null,
   "id": "35889236",
   "metadata": {},
   "outputs": [],
   "source": [
    "import numpy as np\n",
    "# Datos de calificaciones de 20 estudiantes en 3 materias (Matemáticas, Física, Química)\n",
    "calificaciones = np.array([\n",
    "    [88, 92, 79],\n",
    "    [76, 85, 80],\n",
    "    [89, 90, 87],\n",
    "    [70, 78, 82],\n",
    "    [85, 88, 76],\n",
    "    [92, 94, 89],\n",
    "    [75, 80, 85],\n",
    "    [88, 89, 90],\n",
    "    [80, 83, 78],\n",
    "    [84, 86, 82],\n",
    "    [77, 80, 79],\n",
    "    [90, 92, 88],\n",
    "    [83, 85, 84],\n",
    "    [78, 79, 82],\n",
    "    [85, 88, 86],\n",
    "    [89, 91, 87],\n",
    "    [92, 93, 91],\n",
    "    [76, 78, 80],\n",
    "    [85, 87, 82],\n",
    "    [90, 94, 88]\n",
    "])\n"
   ]
  }
 ],
 "metadata": {
  "kernelspec": {
   "display_name": "Python 3 (ipykernel)",
   "language": "python",
   "name": "python3"
  },
  "language_info": {
   "codemirror_mode": {
    "name": "ipython",
    "version": 3
   },
   "file_extension": ".py",
   "mimetype": "text/x-python",
   "name": "python",
   "nbconvert_exporter": "python",
   "pygments_lexer": "ipython3",
   "version": "3.11.7"
  }
 },
 "nbformat": 4,
 "nbformat_minor": 5
}
