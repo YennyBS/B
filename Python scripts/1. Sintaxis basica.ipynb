{
 "cells": [
  {
   "cell_type": "code",
   "execution_count": null,
   "id": "5aebabaf",
   "metadata": {},
   "outputs": [],
   "source": [
    "# Comentarios"
   ]
  },
  {
   "cell_type": "code",
   "execution_count": null,
   "id": "fea0df82",
   "metadata": {},
   "outputs": [],
   "source": [
    "# Variables"
   ]
  },
  {
   "cell_type": "code",
   "execution_count": null,
   "id": "48041d82",
   "metadata": {},
   "outputs": [],
   "source": [
    "# Tipos de datos"
   ]
  },
  {
   "cell_type": "code",
   "execution_count": null,
   "id": "ed8b2d30",
   "metadata": {},
   "outputs": [],
   "source": [
    "# Operadores Aritmeticos"
   ]
  },
  {
   "cell_type": "code",
   "execution_count": null,
   "id": "903e3577",
   "metadata": {},
   "outputs": [],
   "source": [
    "# Condicionales"
   ]
  },
  {
   "cell_type": "code",
   "execution_count": null,
   "id": "7df7fdbb",
   "metadata": {},
   "outputs": [],
   "source": [
    "# Ciclos o Bucles"
   ]
  },
  {
   "cell_type": "code",
   "execution_count": null,
   "id": "097f2e42",
   "metadata": {},
   "outputs": [],
   "source": [
    "# Listas o Arrays"
   ]
  },
  {
   "cell_type": "code",
   "execution_count": null,
   "id": "e05468cd",
   "metadata": {},
   "outputs": [],
   "source": [
    "# Funciones"
   ]
  },
  {
   "cell_type": "code",
   "execution_count": null,
   "id": "cd958b30",
   "metadata": {},
   "outputs": [],
   "source": [
    "# Diccionarios"
   ]
  },
  {
   "cell_type": "code",
   "execution_count": null,
   "id": "4b4792ce",
   "metadata": {},
   "outputs": [],
   "source": [
    "# List Comprehension"
   ]
  },
  {
   "cell_type": "code",
   "execution_count": null,
   "id": "7f9d84e3",
   "metadata": {},
   "outputs": [],
   "source": [
    "# Entradas de usuario"
   ]
  },
  {
   "cell_type": "code",
   "execution_count": null,
   "id": "d43f7eeb",
   "metadata": {},
   "outputs": [],
   "source": [
    "# Manejo de errores"
   ]
  },
  {
   "cell_type": "code",
   "execution_count": null,
   "id": "3548a8df",
   "metadata": {},
   "outputs": [],
   "source": [
    "# Manejo de Archivos"
   ]
  },
  {
   "cell_type": "code",
   "execution_count": null,
   "id": "71c96712",
   "metadata": {},
   "outputs": [],
   "source": [
    "# Calculadora"
   ]
  }
 ],
 "metadata": {
  "kernelspec": {
   "display_name": "Python 3 (ipykernel)",
   "language": "python",
   "name": "python3"
  },
  "language_info": {
   "codemirror_mode": {
    "name": "ipython",
    "version": 3
   },
   "file_extension": ".py",
   "mimetype": "text/x-python",
   "name": "python",
   "nbconvert_exporter": "python",
   "pygments_lexer": "ipython3",
   "version": "3.11.7"
  }
 },
 "nbformat": 4,
 "nbformat_minor": 5
}
