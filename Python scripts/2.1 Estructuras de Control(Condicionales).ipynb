{
 "cells": [
  {
   "cell_type": "code",
   "execution_count": null,
   "id": "fe6cf441",
   "metadata": {},
   "outputs": [],
   "source": [
    "# A. Condicionales (if, elif, else)"
   ]
  },
  {
   "cell_type": "code",
   "execution_count": null,
   "id": "fbc6a348",
   "metadata": {},
   "outputs": [],
   "source": [
    "# 1.Comparar dos números"
   ]
  },
  {
   "cell_type": "code",
   "execution_count": null,
   "id": "0ce12471",
   "metadata": {},
   "outputs": [],
   "source": [
    "# 2.Clasificación de edades\n",
    "\"\"\" \n",
    "Escribe un programa que clasifique a una persona en función de su edad ingresada.\n",
    "\n",
    "\t•\tMenor de 12 años: “Niño”.\n",
    "\t•\tEntre 12 y 17 años: “Adolescente”.\n",
    "\t•\tEntre 18 y 64 años: “Adulto”.\n",
    "\t•\t65 años o más: “Adulto mayor”.\n",
    "\"\"\""
   ]
  },
  {
   "cell_type": "code",
   "execution_count": null,
   "id": "b0f4f694",
   "metadata": {},
   "outputs": [],
   "source": [
    "# 3.Determinar si un número es positivo, negativo o cero"
   ]
  },
  {
   "cell_type": "code",
   "execution_count": 5,
   "id": "68f6b19d",
   "metadata": {},
   "outputs": [
    {
     "name": "stdout",
     "output_type": "stream",
     "text": [
      "hola\n"
     ]
    }
   ],
   "source": [
    "# 4.Calculadora de propinas\n",
    "\"\"\"Escribe un programa que calcule el monto de una propina dependiendo de la calidad del servicio recibida.\n",
    "\n",
    "\t•\tServicio “excelente”: 20% de propina.\n",
    "\t•\tServicio “bueno”: 15% de propina.\n",
    "\t•\tServicio “regular”: 10% de propina.\n",
    "\t•\tServicio “malo”: 5% de propina.\n",
    "    El programa debe pedir el monto de la factura y el tipo de servicio. \n",
    " \"\"\"\n",
    " "
   ]
  },
  {
   "cell_type": "code",
   "execution_count": null,
   "id": "25b92b85",
   "metadata": {},
   "outputs": [],
   "source": [
    "# 5.Verificar si el numero es Par o Impar"
   ]
  },
  {
   "cell_type": "code",
   "execution_count": 6,
   "id": "75d3962c",
   "metadata": {},
   "outputs": [],
   "source": [
    "# 6.Calificación de examen\n",
    "\"\"\"\n",
    "Escribe un programa que le pida al usuario su calificación (entre 0 y 100) y le muestre la letra correspondiente según la siguiente escala:\n",
    "\n",
    "\t•\t90-100: A\n",
    "\t•\t80-89: B\n",
    "\t•\t70-79: C\n",
    "\t•\t60-69: D\n",
    "\t•\tMenos de 60: F\n",
    "\"\"\""
   ]
  },
  {
   "cell_type": "code",
   "execution_count": null,
   "id": "92c7422a",
   "metadata": {},
   "outputs": [],
   "source": [
    "# 7.Clasificación de temperaturas\n",
    "\"\"\"\n",
    "Escribe un programa que determine la categoría de una temperatura en grados Celsius:\n",
    "\n",
    "\t•\tMenos de 0°C: “Congelación”.\n",
    "\t•\t0°C a 10°C: “Frío”.\n",
    "\t•\t11°C a 20°C: “Templado”.\n",
    "\t•\t21°C a 30°C: “Cálido”.\n",
    "\t•\tMás de 30°C: “Calor”.\n",
    "\"\"\"\n"
   ]
  },
  {
   "cell_type": "code",
   "execution_count": null,
   "id": "f6c4a83b",
   "metadata": {},
   "outputs": [],
   "source": [
    "# 8.Clasificación de distribución de datos\n",
    "\"\"\"\n",
    "Escribe un programa que clasifique un conjunto de datos como sesgado hacia la izquierda, hacia la derecha o \n",
    "simétrico. La clasificación se basa en la diferencia entre la media y la mediana de los datos:\n",
    "\n",
    "\t•\tSi la media es mayor que la mediana, los datos están sesgados a la derecha.\n",
    "\t•\tSi la media es menor que la mediana, los datos están sesgados a la izquierda.\n",
    "\t•\tSi la media es igual a la mediana, los datos son simétricos.\n",
    "\"\"\""
   ]
  },
  {
   "cell_type": "code",
   "execution_count": null,
   "id": "464dd82b",
   "metadata": {},
   "outputs": [],
   "source": [
    "# 9.Análisis de regresión simple\n",
    "\"\"\"\n",
    "Dado un conjunto de datos con valores de x y y, calcula la pendiente y la \n",
    "intersección de la recta de regresión lineal (y = mx + b). Luego, clasifica la relación:\n",
    "\n",
    "\t•\tSi la pendiente es positiva, imprime “Relación positiva”.\n",
    "\t•\tSi la pendiente es negativa, imprime “Relación negativa”.\n",
    "\t•\tSi la pendiente es cercana a cero (por ejemplo, entre -0.1 y 0.1), \n",
    "        imprime “No hay correlación significativa”.\n",
    "\"\"\"\n",
    "\n"
   ]
  },
  {
   "cell_type": "code",
   "execution_count": null,
   "id": "2682e17f",
   "metadata": {},
   "outputs": [],
   "source": [
    "# 10.Cálculo de percentiles\n",
    "\"\"\"\n",
    "Escribe un programa que calcule el percentil de un valor dado en un conjunto de \n",
    "datos y clasifique la posición del valor en el conjunto:\n",
    "\n",
    "\t•\tSi el valor está en el percentil 25 o menor, imprime “Bajo”.\n",
    "\t•\tSi está entre el percentil 26 y el 75, imprime “Medio”.\n",
    "\t•\tSi está en el percentil 76 o superior, imprime “Alto”.\n",
    "\"\"\""
   ]
  },
  {
   "cell_type": "code",
   "execution_count": null,
   "id": "b3314045",
   "metadata": {},
   "outputs": [],
   "source": [
    "# 11. Clasificación de valores Z\n",
    "\"\"\"\n",
    "Escribe un programa que calcule el valor Z de un conjunto de datos dado y lo clasifique según los siguientes criterios:\n",
    "\n",
    "\t•\tEntre -1 y 1: Valor normal.\n",
    "\t•\tMayor que 1: Valor alto.\n",
    "\t•\tMenor que -1: Valor bajo.\n",
    "\"\"\"\n"
   ]
  },
  {
   "cell_type": "code",
   "execution_count": null,
   "id": "99403f2f",
   "metadata": {},
   "outputs": [],
   "source": [
    "# 12. Resolver ecuaciones cuadraticas \n",
    "\"\"\"\n",
    "Escribe un programa que resuelva ecuaciones cuadráticas de la forma  ax^2 + bx + c = 0 , y clasifique las soluciones:\n",
    "\n",
    "\t•\tSi el discriminante es positivo, imprime “Dos soluciones reales”.\n",
    "\t•\tSi el discriminante es cero, imprime “Una solución real”.\n",
    "\t•\tSi el discriminante es negativo, imprime “Soluciones complejas”.\n",
    "\n",
    "La fórmula cuadrática es:\n",
    "\"\"\""
   ]
  },
  {
   "cell_type": "code",
   "execution_count": null,
   "id": "09c192d3",
   "metadata": {},
   "outputs": [],
   "source": []
  }
 ],
 "metadata": {
  "kernelspec": {
   "display_name": "Python 3 (ipykernel)",
   "language": "python",
   "name": "python3"
  },
  "language_info": {
   "codemirror_mode": {
    "name": "ipython",
    "version": 3
   },
   "file_extension": ".py",
   "mimetype": "text/x-python",
   "name": "python",
   "nbconvert_exporter": "python",
   "pygments_lexer": "ipython3",
   "version": "3.11.7"
  }
 },
 "nbformat": 4,
 "nbformat_minor": 5
}
