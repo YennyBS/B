{
 "cells": [
  {
   "cell_type": "code",
   "execution_count": null,
   "id": "a277e720",
   "metadata": {},
   "outputs": [],
   "source": [
    "# 1.Imprimir números del 1 al 10"
   ]
  },
  {
   "cell_type": "code",
   "execution_count": null,
   "id": "0a775b6d",
   "metadata": {},
   "outputs": [],
   "source": [
    "# 2.Suma de los primeros n números"
   ]
  },
  {
   "cell_type": "code",
   "execution_count": null,
   "id": "6d26dc77",
   "metadata": {},
   "outputs": [],
   "source": [
    "# 3.Tabla de multiplicar"
   ]
  },
  {
   "cell_type": "code",
   "execution_count": null,
   "id": "5f6d93eb",
   "metadata": {},
   "outputs": [],
   "source": [
    "# 4.Números pares en un rango "
   ]
  },
  {
   "cell_type": "code",
   "execution_count": null,
   "id": "aff046cc",
   "metadata": {},
   "outputs": [],
   "source": [
    "# 5.Factorial de un número"
   ]
  },
  {
   "cell_type": "code",
   "execution_count": null,
   "id": "5479b585",
   "metadata": {},
   "outputs": [],
   "source": [
    "# 6.Contar vocales en una palabra"
   ]
  },
  {
   "cell_type": "code",
   "execution_count": null,
   "id": "2e046c33",
   "metadata": {},
   "outputs": [],
   "source": [
    "# 7.Adivina el número"
   ]
  },
  {
   "cell_type": "code",
   "execution_count": null,
   "id": "68d848a5",
   "metadata": {},
   "outputs": [],
   "source": [
    "# 8.Invertir una cadena"
   ]
  },
  {
   "cell_type": "code",
   "execution_count": null,
   "id": "ad5673c6",
   "metadata": {},
   "outputs": [],
   "source": [
    "# 9.Secuencia de Fibonacci"
   ]
  },
  {
   "cell_type": "code",
   "execution_count": null,
   "id": "1486eb47",
   "metadata": {},
   "outputs": [],
   "source": [
    "# 10.Determinar si un número es primo"
   ]
  },
  {
   "cell_type": "code",
   "execution_count": null,
   "id": "7ffc5b31",
   "metadata": {},
   "outputs": [],
   "source": [
    "# 11.Promedio de una lista de números"
   ]
  },
  {
   "cell_type": "code",
   "execution_count": null,
   "id": "b22f7ac3",
   "metadata": {},
   "outputs": [],
   "source": [
    "# 12.Estimación de la media y desviación estándar"
   ]
  },
  {
   "cell_type": "code",
   "execution_count": null,
   "id": "892c6e02",
   "metadata": {},
   "outputs": [],
   "source": [
    "# 13.Método de Monte Carlo para estimar Pi"
   ]
  },
  {
   "cell_type": "code",
   "execution_count": null,
   "id": "a17cd698",
   "metadata": {},
   "outputs": [],
   "source": [
    "# 14.Calcular la moda de un conjunto de datos"
   ]
  },
  {
   "cell_type": "code",
   "execution_count": null,
   "id": "d808ed41",
   "metadata": {},
   "outputs": [],
   "source": [
    "# 15.Aproximación de series infinitas"
   ]
  },
  {
   "cell_type": "code",
   "execution_count": null,
   "id": "24d00d9b",
   "metadata": {},
   "outputs": [],
   "source": [
    "# 16.Aproximación de integrales usando el método del trapecio"
   ]
  }
 ],
 "metadata": {
  "kernelspec": {
   "display_name": "Python 3 (ipykernel)",
   "language": "python",
   "name": "python3"
  },
  "language_info": {
   "codemirror_mode": {
    "name": "ipython",
    "version": 3
   },
   "file_extension": ".py",
   "mimetype": "text/x-python",
   "name": "python",
   "nbconvert_exporter": "python",
   "pygments_lexer": "ipython3",
   "version": "3.11.7"
  }
 },
 "nbformat": 4,
 "nbformat_minor": 5
}
