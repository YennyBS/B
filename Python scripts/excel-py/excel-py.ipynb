{
 "cells": [
  {
   "cell_type": "code",
   "execution_count": 2,
   "id": "1542406e",
   "metadata": {},
   "outputs": [
    {
     "name": "stdout",
     "output_type": "stream",
     "text": [
      "archivo generado correctamente\n"
     ]
    }
   ],
   "source": [
    "#Crear un archivo excel con python\n",
    "import pandas as pd\n",
    "\n",
    "#crear un DataFrame(df) o diccionario \n",
    "\n",
    "data = {\n",
    "    \"Nombres\":['Luis','Juan','Ana'],\n",
    "    \"Edades\":[29,30,40],\n",
    "    'Puntajes' : [90,95,100]\n",
    "}\n",
    "df = pd.DataFrame(data)\n",
    "\n",
    "df.to_excel('example_output.xlsx')\n",
    "print('archivo generado correctamente')\n"
   ]
  },
  {
   "cell_type": "code",
   "execution_count": 3,
   "id": "1f550308",
   "metadata": {},
   "outputs": [
    {
     "name": "stdout",
     "output_type": "stream",
     "text": [
      "archivo generado correctamente\n"
     ]
    }
   ],
   "source": [
    "#Crear un archivo excel con python sin index\n",
    "import pandas as pd\n",
    "\n",
    "#crear un DataFrame(df) o diccionario \n",
    "\n",
    "data = {\n",
    "    \"Nombres\":['Luis','Juan','Ana'],\n",
    "    \"Edades\":[29,30,50],\n",
    "    'Puntajes' : [90,95,100]\n",
    "}\n",
    "df = pd.DataFrame(data)\n",
    "\n",
    "df.to_excel('example_output_sinindex.xlsx',index=False)\n",
    "print('archivo generado correctamente')"
   ]
  },
  {
   "cell_type": "code",
   "execution_count": 4,
   "id": "7909fd90",
   "metadata": {},
   "outputs": [
    {
     "name": "stdout",
     "output_type": "stream",
     "text": [
      "       Fecha    Producto  Cantidad_Vendida  Precio_Unitario\n",
      "0 2024-01-31  Producto A                50               10\n",
      "1 2024-02-29  Producto A                60               10\n",
      "2 2024-03-31  Producto A                45               10\n",
      "3 2024-04-30  Producto A                70               10\n",
      "4 2024-05-31  Producto A                65               10\n",
      "     Ciudad  Mes  Temperatura_Media\n",
      "0  Ciudad X    1                 15\n",
      "1  Ciudad X    2                 16\n",
      "2  Ciudad X    3                 18\n",
      "3  Ciudad X    4                 20\n",
      "4  Ciudad X    5                 22\n",
      "     País   Año  Población\n",
      "0  País A  2015    1000000\n",
      "1  País B  2015    1050000\n",
      "2  País C  2015    1100000\n",
      "3  País A  2016    1150000\n",
      "4  País B  2016    1200000\n"
     ]
    }
   ],
   "source": [
    "# Leer un archivo excel\n",
    "import pandas as pd\n",
    "\n",
    "#aca ponemos el nombre del archivo excel que deseamos acceder\n",
    "archivo_excel='datos_ejemplo.xlsx'\n",
    "sheets = pd.ExcelFile(archivo_excel)\n",
    "\n",
    "#imprimir las filas de las hojas \n",
    "for sheet_name in sheets.sheet_names:\n",
    "    df = pd.read_excel(archivo_excel, sheet_name=sheet_name)\n",
    "    print(df.head()) #por defecto me imprime 5\n",
    "\n"
   ]
  },
  {
   "cell_type": "code",
   "execution_count": 5,
   "id": "120e5669",
   "metadata": {},
   "outputs": [
    {
     "name": "stdout",
     "output_type": "stream",
     "text": [
      "       Fecha    Producto  Cantidad_Vendida  Precio_Unitario\n",
      "0 2024-01-31  Producto A                50               10\n",
      "1 2024-02-29  Producto A                60               10\n",
      "2 2024-03-31  Producto A                45               10\n",
      "3 2024-04-30  Producto A                70               10\n",
      "4 2024-05-31  Producto A                65               10\n",
      "5 2024-06-30  Producto A                80               10\n",
      "6 2024-07-31  Producto A                90               10\n",
      "7 2024-08-31  Producto A                85               10\n",
      "8 2024-09-30  Producto A                75               10\n",
      "9 2024-10-31  Producto A                95               10\n",
      "     Ciudad  Mes  Temperatura_Media\n",
      "0  Ciudad X    1                 15\n",
      "1  Ciudad X    2                 16\n",
      "2  Ciudad X    3                 18\n",
      "3  Ciudad X    4                 20\n",
      "4  Ciudad X    5                 22\n",
      "5  Ciudad X    6                 25\n",
      "6  Ciudad X    7                 30\n",
      "7  Ciudad X    8                 29\n",
      "8  Ciudad X    9                 24\n",
      "9  Ciudad X   10                 20\n",
      "     País   Año  Población\n",
      "0  País A  2015    1000000\n",
      "1  País B  2015    1050000\n",
      "2  País C  2015    1100000\n",
      "3  País A  2016    1150000\n",
      "4  País B  2016    1200000\n",
      "5  País C  2016    1250000\n",
      "6  País A  2017    1300000\n",
      "7  País B  2017    1350000\n",
      "8  País C  2017    1400000\n",
      "9  País A  2018    1450000\n"
     ]
    }
   ],
   "source": [
    "# Leer un archivo excel\n",
    "import pandas as pd\n",
    "\n",
    "#aca ponemos el nombre del archivo excel que deseamos acceder\n",
    "archivo_excel='datos_ejemplo.xlsx'\n",
    "sheets = pd.ExcelFile(archivo_excel)\n",
    "num_filas=10\n",
    "\n",
    "#imprimir las filas de las hojas \n",
    "for sheet_name in sheets.sheet_names:\n",
    "    df = pd.read_excel(archivo_excel, sheet_name=sheet_name)\n",
    "    print(df.head(num_filas)) #dentro de df.head() le pasamos el numero de filas"
   ]
  },
  {
   "cell_type": "code",
   "execution_count": 6,
   "id": "9d7988c6",
   "metadata": {},
   "outputs": [
    {
     "name": "stdout",
     "output_type": "stream",
     "text": [
      "       Fecha    Producto\n",
      "0 2024-01-31  Producto A\n",
      "1 2024-02-29  Producto A\n",
      "2 2024-03-31  Producto A\n",
      "3 2024-04-30  Producto A\n",
      "4 2024-05-31  Producto A\n",
      "5 2024-06-30  Producto A\n",
      "6 2024-07-31  Producto A\n",
      "7 2024-08-31  Producto A\n",
      "8 2024-09-30  Producto A\n",
      "9 2024-10-31  Producto A\n",
      "     Ciudad  Mes\n",
      "0  Ciudad X    1\n",
      "1  Ciudad X    2\n",
      "2  Ciudad X    3\n",
      "3  Ciudad X    4\n",
      "4  Ciudad X    5\n",
      "5  Ciudad X    6\n",
      "6  Ciudad X    7\n",
      "7  Ciudad X    8\n",
      "8  Ciudad X    9\n",
      "9  Ciudad X   10\n",
      "     País   Año\n",
      "0  País A  2015\n",
      "1  País B  2015\n",
      "2  País C  2015\n",
      "3  País A  2016\n",
      "4  País B  2016\n",
      "5  País C  2016\n",
      "6  País A  2017\n",
      "7  País B  2017\n",
      "8  País C  2017\n",
      "9  País A  2018\n"
     ]
    }
   ],
   "source": [
    "#traer las columnas requeridas\n",
    "# Leer un archivo excel\n",
    "import pandas as pd\n",
    "\n",
    "#aca ponemos el nombre del archivo excel que deseamos acceder\n",
    "archivo_excel='datos_ejemplo.xlsx'\n",
    "sheets = pd.ExcelFile(archivo_excel)\n",
    "num_filas=10\n",
    "rango_columnas ='A:B'\n",
    "\n",
    "#imprimir las filas de las hojas \n",
    "for sheet_name in sheets.sheet_names:\n",
    "    df = pd.read_excel(archivo_excel, sheet_name=sheet_name , usecols=rango_columnas)\n",
    "    print(df.head(num_filas)) #dentro de df.head() le pasamos el numero de filas"
   ]
  },
  {
   "cell_type": "code",
   "execution_count": 7,
   "id": "fef2bde3",
   "metadata": {},
   "outputs": [
    {
     "name": "stdout",
     "output_type": "stream",
     "text": [
      "El calculo de areas fue exitoso\n"
     ]
    }
   ],
   "source": [
    "# calcular el area de un circulo\n",
    "\n",
    "import pandas as pd\n",
    "import math\n",
    "\n",
    "df = pd.read_excel('radios.xlsx')#leemos el excel\n",
    "# pi = math.pi\n",
    "areas = []\n",
    "\n",
    "for radio in df['Radio']: #este bucle va a recorrer la columna radio\n",
    "    area = math.pi * (radio**2)\n",
    "    areas.append(area)\n",
    "    \n",
    "#como añadimos una nueva columna con las areas\n",
    "df['Areas'] = areas\n",
    "\n",
    "#guardamos el archivo con las areas calculadas\n",
    "df.to_excel('area_de_circuilos.xlsx', index=False)\n",
    "print('El calculo de areas fue exitoso')"
   ]
  },
  {
   "cell_type": "code",
   "execution_count": null,
   "id": "43e7208d",
   "metadata": {},
   "outputs": [],
   "source": [
    "# Calculen el perimetro del circulo leyendo el mismo excel '2*pi*radio'"
   ]
  },
  {
   "cell_type": "code",
   "execution_count": 8,
   "id": "305d7b8d",
   "metadata": {},
   "outputs": [
    {
     "name": "stdout",
     "output_type": "stream",
     "text": [
      "La conversion de temperaturas fue exitoso\n"
     ]
    }
   ],
   "source": [
    "# Convertir temperaturas de celsius a fahrenheit\n",
    "\n",
    "import pandas as pd\n",
    "\n",
    "df = pd.read_excel('temperaturas.xlsx')\n",
    "\n",
    "#creamos una lista donde guardaremos las temperaturas en Fahrenheit\n",
    "fahrenheit = []\n",
    "\n",
    "for celsius in df['Celsius']:\n",
    "    f = celsius*1.8 + 32\n",
    "    fahrenheit.append(f)\n",
    "\n",
    "#añadimos una nueva columna llamada Fahrenheit\n",
    "df['Fahrenheit']=fahrenheit\n",
    "\n",
    "#guardamos el archivo con las temperaturas en F\n",
    "df.to_excel('temperatura_fahrenheit.xlsx', index=False)\n",
    "print('La conversion de temperaturas fue exitoso')"
   ]
  },
  {
   "cell_type": "code",
   "execution_count": null,
   "id": "3ef03aba",
   "metadata": {},
   "outputs": [],
   "source": [
    "# con"
   ]
  }
 ],
 "metadata": {
  "kernelspec": {
   "display_name": "Python 3 (ipykernel)",
   "language": "python",
   "name": "python3"
  },
  "language_info": {
   "codemirror_mode": {
    "name": "ipython",
    "version": 3
   },
   "file_extension": ".py",
   "mimetype": "text/x-python",
   "name": "python",
   "nbconvert_exporter": "python",
   "pygments_lexer": "ipython3",
   "version": "3.11.7"
  }
 },
 "nbformat": 4,
 "nbformat_minor": 5
}
