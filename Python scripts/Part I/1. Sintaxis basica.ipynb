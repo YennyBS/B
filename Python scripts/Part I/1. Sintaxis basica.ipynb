{
 "cells": [
  {
   "cell_type": "code",
   "execution_count": 1,
   "id": "5aebabaf",
   "metadata": {},
   "outputs": [
    {
     "data": {
      "text/plain": [
       "' esto es un comentario de varias lineas\\n2da linea\\n3era linea'"
      ]
     },
     "execution_count": 1,
     "metadata": {},
     "output_type": "execute_result"
    }
   ],
   "source": [
    "# Comentarios\n",
    "# esto es un comentario de una sola linea\n",
    "a=1 #estamos declarando que a es igual 1 \n",
    "''' esto es un comentario de varias lineas\n",
    "2da linea\n",
    "3era linea'''"
   ]
  },
  {
   "cell_type": "code",
   "execution_count": 5,
   "id": "fea0df82",
   "metadata": {},
   "outputs": [],
   "source": [
    "# Variables \n",
    "nombre = \"Luis\"  #esta es una variable de tipo String y va entre comillas\n",
    "edad = 32 # este es un numero entero - int\n",
    "altura = 1.75 # este un numero flotante o con decimales - float\n",
    "\n",
    "#bool : true or false , 0 o es 1\n",
    "es_estudiante = True #es una variable de tipo Bool\n"
   ]
  },
  {
   "cell_type": "code",
   "execution_count": 8,
   "id": "ed8b2d30",
   "metadata": {
    "scrolled": true
   },
   "outputs": [
    {
     "name": "stdout",
     "output_type": "stream",
     "text": [
      "2\n",
      "8\n"
     ]
    }
   ],
   "source": [
    "# Operadores Aritmeticos\n",
    "suma = 5+3 # operador suma\n",
    "resta = 5-10 #operador resta \n",
    "producto = 5*10 # producto\n",
    "division = 5/10 # division\n",
    "#operador modulo es para obtener el residuo de la division\n",
    "print(20%3)\n",
    "\n",
    "#operador potencia '**'\n",
    "print(2**3)"
   ]
  },
  {
   "cell_type": "code",
   "execution_count": 11,
   "id": "c6556f74",
   "metadata": {},
   "outputs": [
    {
     "name": "stdout",
     "output_type": "stream",
     "text": [
      "16\n"
     ]
    }
   ],
   "source": [
    "print(2**4)"
   ]
  },
  {
   "cell_type": "code",
   "execution_count": 10,
   "id": "0da4354e",
   "metadata": {},
   "outputs": [
    {
     "name": "stdout",
     "output_type": "stream",
     "text": [
      "14400\n"
     ]
    }
   ],
   "source": [
    "#voy a calcular de celsius a Fahrenheit\n",
    "celsius = 90\n",
    "fahrenheit = celsius * 1.8 + 32\n",
    "\n",
    "# print(fahrenheit)\n",
    "\n",
    "#obtener de millas a metros , 1 milla = 1600metros\n",
    "#variable de entrada millas\n",
    "millas = 9 \n",
    "metros = millas *1600\n",
    "print(metros)"
   ]
  },
  {
   "cell_type": "code",
   "execution_count": 23,
   "id": "903e3577",
   "metadata": {},
   "outputs": [
    {
     "name": "stdout",
     "output_type": "stream",
     "text": [
      "cual es tu edad ?17\n",
      "esta a punto de ser mayor de edad\n"
     ]
    }
   ],
   "source": [
    "# Condicionales , respetar la identacion o sangria\n",
    "#si una persona es mayor de edad , tiene 18 o es menor de edad \n",
    "edad = int(input('cual es tu edad ?'))\n",
    "\n",
    "if edad>18:\n",
    "    print('es mayor de edad')\n",
    "elif edad ==18:\n",
    "    print('justo tiene 18 años')\n",
    "elif edad ==17:\n",
    "    print('esta a punto de ser mayor de edad')\n",
    "else:\n",
    "    print('menor de edad')\n",
    "\n"
   ]
  },
  {
   "cell_type": "code",
   "execution_count": null,
   "id": "7fc8908b",
   "metadata": {},
   "outputs": [],
   "source": [
    "# si un numero es par \n",
    "numero = 11"
   ]
  },
  {
   "cell_type": "code",
   "execution_count": 31,
   "id": "7df7fdbb",
   "metadata": {},
   "outputs": [
    {
     "name": "stdout",
     "output_type": "stream",
     "text": [
      "1\n",
      "2\n",
      "4\n",
      "8\n",
      "16\n",
      "32\n",
      "64\n",
      "128\n",
      "256\n",
      "512\n",
      "1024\n",
      "2048\n",
      "4096\n",
      "8192\n",
      "16384\n"
     ]
    }
   ],
   "source": [
    "# Ciclos o Bucles\n",
    "#ciclo for\n",
    "for i in range(15):\n",
    "    print(2**i) # "
   ]
  },
  {
   "cell_type": "code",
   "execution_count": 33,
   "id": "a95603fe",
   "metadata": {},
   "outputs": [
    {
     "name": "stdout",
     "output_type": "stream",
     "text": [
      "45\n"
     ]
    }
   ],
   "source": [
    "# 1 + 2 + 3 + ... + n = n(n=1)/2\n",
    "suma = 0\n",
    "for i in range(10):\n",
    "    suma = suma + i \n",
    "\n",
    "print(suma)"
   ]
  },
  {
   "cell_type": "code",
   "execution_count": null,
   "id": "896bfd26",
   "metadata": {},
   "outputs": [],
   "source": [
    "# imprimir la sucesion de fibonacci 25 primeros \n",
    "1 , 1 ,2 ,3 , 5 ,8 , 13 ..."
   ]
  },
  {
   "cell_type": "code",
   "execution_count": null,
   "id": "6b2ec1b9",
   "metadata": {},
   "outputs": [],
   "source": [
    "#imprimir los primeras 10 potencia de 2 : 0 , 2 ,4 ,8,16 ,32 ..."
   ]
  },
  {
   "cell_type": "code",
   "execution_count": null,
   "id": "097f2e42",
   "metadata": {},
   "outputs": [],
   "source": [
    "# Listas o Arrays"
   ]
  },
  {
   "cell_type": "code",
   "execution_count": null,
   "id": "e05468cd",
   "metadata": {},
   "outputs": [],
   "source": [
    "# Funciones"
   ]
  },
  {
   "cell_type": "code",
   "execution_count": null,
   "id": "cd958b30",
   "metadata": {},
   "outputs": [],
   "source": [
    "# Diccionarios"
   ]
  },
  {
   "cell_type": "code",
   "execution_count": null,
   "id": "4b4792ce",
   "metadata": {},
   "outputs": [],
   "source": [
    "# List Comprehension"
   ]
  },
  {
   "cell_type": "code",
   "execution_count": 26,
   "id": "7f9d84e3",
   "metadata": {},
   "outputs": [
    {
     "name": "stdout",
     "output_type": "stream",
     "text": [
      "cual es tu nombre ?Luis \n",
      "hola Luis \n",
      "cual es tu edad35\n",
      "35\n",
      "introduce tu estatura1.75\n",
      "1.75\n"
     ]
    }
   ],
   "source": [
    "# Entradas de usuario\n",
    "nombre = input('cual es tu nombre ?') #entrada de datos para un tipo string\n",
    "print('hola '+ nombre)\n",
    "edad = int(input('cual es tu edad'))\n",
    "print(edad)\n",
    "\n",
    "estatura = float(input('introduce tu estatura'))\n",
    "print(estatura)"
   ]
  },
  {
   "cell_type": "code",
   "execution_count": 20,
   "id": "d43f7eeb",
   "metadata": {},
   "outputs": [],
   "source": [
    "# Manejo de errores"
   ]
  },
  {
   "cell_type": "code",
   "execution_count": null,
   "id": "3548a8df",
   "metadata": {},
   "outputs": [],
   "source": [
    "# Manejo de Archivos"
   ]
  },
  {
   "cell_type": "code",
   "execution_count": null,
   "id": "71c96712",
   "metadata": {},
   "outputs": [],
   "source": [
    "# Calculadora"
   ]
  }
 ],
 "metadata": {
  "kernelspec": {
   "display_name": "Python 3 (ipykernel)",
   "language": "python",
   "name": "python3"
  },
  "language_info": {
   "codemirror_mode": {
    "name": "ipython",
    "version": 3
   },
   "file_extension": ".py",
   "mimetype": "text/x-python",
   "name": "python",
   "nbconvert_exporter": "python",
   "pygments_lexer": "ipython3",
   "version": "3.11.7"
  }
 },
 "nbformat": 4,
 "nbformat_minor": 5
}
